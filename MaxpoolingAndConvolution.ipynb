{
 "cells": [
  {
   "cell_type": "code",
   "execution_count": 2,
   "metadata": {},
   "outputs": [
    {
     "name": "stdout",
     "output_type": "stream",
     "text": [
      "2.0.0-alpha0\n"
     ]
    }
   ],
   "source": [
    "import tensorflow as tf\n",
    "print(tf.__version__)\n",
    "mnist = tf.keras.datasets.fashion_mnist\n",
    "(training_images, training_labels), (test_images, test_labels) = mnist.load_data()\n"
   ]
  },
  {
   "cell_type": "code",
   "execution_count": 3,
   "metadata": {},
   "outputs": [],
   "source": [
    "training_images=training_images.reshape(60000,28,28,1)\n",
    "training_images=training_images/255.0\n",
    "test_images=test_images.reshape(10000,28,28,1)\n",
    "test_images=test_images/255.0"
   ]
  },
  {
   "cell_type": "code",
   "execution_count": null,
   "metadata": {},
   "outputs": [],
   "source": [
    "#the first convolution expects a single tensor containing everything, so instead of 60,000 28x28x1 items in a list, we have a single 4D list that is 60,000x28x28x1"
   ]
  },
  {
   "cell_type": "code",
   "execution_count": 6,
   "metadata": {},
   "outputs": [],
   "source": [
    "model=tf.keras.models.Sequential(#defines sequence of layers of neural network\n",
    "[\n",
    "    tf.keras.layers.Conv2D(64, (3,3), activation='relu', input_shape=(28, 28, 1)),\n",
    "    tf.keras.layers.MaxPooling2D(2, 2),\n",
    "    tf.keras.layers.Conv2D(64, (3,3), activation='relu'),\n",
    "    tf.keras.layers.MaxPooling2D(2,2),\n",
    "    tf.keras.layers.Flatten(),\n",
    "    tf.keras.layers.Dense(128, activation='relu'),\n",
    "    tf.keras.layers.Dense(10, activation='softmax')\n",
    "])"
   ]
  },
  {
   "cell_type": "code",
   "execution_count": 5,
   "metadata": {},
   "outputs": [],
   "source": [
    "#ConvolutionLayer parameters(Convolution highlights the details)\n",
    "#1)The number of convolutions you want to generate. Purely arbitrary, but good to start with something in the order of 32\n",
    "#2)The size of the Convolution, in this case a 3x3 grid\n",
    "#3)The activation function to use -- in this case we'll use relu, which you might recall is the equivalent of returning x when x>0, else returning 0\n",
    "#4)In the first layer, the shape of the input data."
   ]
  },
  {
   "cell_type": "code",
   "execution_count": 7,
   "metadata": {},
   "outputs": [],
   "source": [
    "#Maxpooling-designed to compress the image, \n",
    "#while maintaining the content of the features that were highlighted by the convlution"
   ]
  },
  {
   "cell_type": "code",
   "execution_count": 8,
   "metadata": {},
   "outputs": [],
   "source": [
    "#Flatten just takes the square image and turns it into a 1 dimensional set.\n",
    "#Dense: Adds a layer of neurons\n",
    "#relu:x>0 gives x else 0\n",
    "#Softmax-gives maximum number in a given set of values"
   ]
  },
  {
   "cell_type": "code",
   "execution_count": 9,
   "metadata": {},
   "outputs": [
    {
     "name": "stdout",
     "output_type": "stream",
     "text": [
      "Epoch 1/10\n",
      "60000/60000 [==============================] - 93s 2ms/sample - loss: 0.4421 - accuracy: 0.8369\n",
      "Epoch 2/10\n",
      "60000/60000 [==============================] - 66s 1ms/sample - loss: 0.2949 - accuracy: 0.8927s - loss: 0.2\n",
      "Epoch 3/10\n",
      "60000/60000 [==============================] - 53s 882us/sample - loss: 0.2496 - accuracy: 0.9072\n",
      "Epoch 4/10\n",
      "60000/60000 [==============================] - 53s 888us/sample - loss: 0.2184 - accuracy: 0.9175\n",
      "Epoch 5/10\n",
      "60000/60000 [==============================] - 54s 894us/sample - loss: 0.1911 - accuracy: 0.9283\n",
      "Epoch 6/10\n",
      "60000/60000 [==============================] - 53s 887us/sample - loss: 0.1694 - accuracy: 0.9369\n",
      "Epoch 7/10\n",
      "60000/60000 [==============================] - 55s 925us/sample - loss: 0.1475 - accuracy: 0.9444\n",
      "Epoch 8/10\n",
      "60000/60000 [==============================] - 53s 891us/sample - loss: 0.1328 - accuracy: 0.9492\n",
      "Epoch 9/10\n",
      "60000/60000 [==============================] - 53s 883us/sample - loss: 0.1158 - accuracy: 0.9565\n",
      "Epoch 10/10\n",
      "60000/60000 [==============================] - 56s 942us/sample - loss: 0.1049 - accuracy: 0.9599\n",
      "10000/10000 [==============================] - 2s 243us/sample - loss: 0.3023 - accuracy: 0.9109\n",
      "0.9109\n"
     ]
    }
   ],
   "source": [
    "model.compile(optimizer='adam', loss='sparse_categorical_crossentropy', metrics=['accuracy'])\n",
    "model.fit(training_images, training_labels, epochs=10)\n",
    "test_loss, test_acc = model.evaluate(test_images, test_labels)\n",
    "print(test_acc)"
   ]
  },
  {
   "cell_type": "code",
   "execution_count": 10,
   "metadata": {},
   "outputs": [],
   "source": [
    "class myCallback(tf.keras.callbacks.Callback):\n",
    "  def on_epoch_end(self, epoch, logs={}):\n",
    "    if(logs.get('loss')<0.4):\n",
    "      print(\"\\nReached 60% accuracy so cancelling training!\")\n",
    "      self.model.stop_training = True"
   ]
  },
  {
   "cell_type": "code",
   "execution_count": 12,
   "metadata": {},
   "outputs": [
    {
     "name": "stdout",
     "output_type": "stream",
     "text": [
      "Epoch 1/5\n",
      "59936/60000 [============================>.] - ETA: 0s - loss: 0.0918\n",
      "Reached 60% accuracy so cancelling training!\n",
      "60000/60000 [==============================] - 55s 913us/sample - loss: 0.0917\n"
     ]
    },
    {
     "data": {
      "text/plain": [
       "<tensorflow.python.keras.callbacks.History at 0x1d640fc9108>"
      ]
     },
     "execution_count": 12,
     "metadata": {},
     "output_type": "execute_result"
    }
   ],
   "source": [
    "callbacks = myCallback()\n",
    "model.compile(optimizer='adam', loss='sparse_categorical_crossentropy')\n",
    "model.fit(training_images, training_labels, epochs=5, callbacks=[callbacks])"
   ]
  },
  {
   "cell_type": "code",
   "execution_count": null,
   "metadata": {},
   "outputs": [],
   "source": [
    "#callback is a class made to limit training according to the accuracy percent"
   ]
  }
 ],
 "metadata": {
  "kernelspec": {
   "display_name": "Python 3",
   "language": "python",
   "name": "python3"
  },
  "language_info": {
   "codemirror_mode": {
    "name": "ipython",
    "version": 3
   },
   "file_extension": ".py",
   "mimetype": "text/x-python",
   "name": "python",
   "nbconvert_exporter": "python",
   "pygments_lexer": "ipython3",
   "version": "3.7.6"
  }
 },
 "nbformat": 4,
 "nbformat_minor": 4
}
